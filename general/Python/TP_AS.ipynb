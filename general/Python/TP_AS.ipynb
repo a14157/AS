{
 "cells": [
  {
   "cell_type": "code",
   "execution_count": 1,
   "id": "c00c45c1",
   "metadata": {},
   "outputs": [],
   "source": [
    "import pandas as pd\n",
    "import numpy as np\n",
    "import seaborn as sns\n",
    "import os\n",
    "from PIL import Image, ImageOps\n",
    "from sklearn.model_selection import train_test_split\n",
    "from tensorflow import keras\n",
    "from keras.models import Sequential\n",
    "from keras.layers import Conv2D, MaxPooling2D, Activation, Dropout, Flatten, Dense\n",
    "from keras import optimizers\n",
    "from keras.preprocessing.image import ImageDataGenerator\n",
    "import tensorflow as tf\n",
    "from flask import Flask, request, redirect, url_for, flash, jsonify\n",
    "from flasgger import Swagger"
   ]
  },
  {
   "cell_type": "code",
   "execution_count": 2,
   "id": "6e4574ef",
   "metadata": {},
   "outputs": [
    {
     "name": "stderr",
     "output_type": "stream",
     "text": [
      "2021-12-17 20:55:04.522560: I tensorflow/core/platform/cpu_feature_guard.cc:151] This TensorFlow binary is optimized with oneAPI Deep Neural Network Library (oneDNN) to use the following CPU instructions in performance-critical operations:  AVX2 FMA\n",
      "To enable them in other operations, rebuild TensorFlow with the appropriate compiler flags.\n"
     ]
    }
   ],
   "source": [
    "agemodel = keras.models.load_model(\"idade_modelo.h5\")"
   ]
  },
  {
   "cell_type": "code",
   "execution_count": 3,
   "id": "5214f435",
   "metadata": {},
   "outputs": [],
   "source": [
    "genmodel = keras.models.load_model(\"genero_modelo.h5\")"
   ]
  },
  {
   "cell_type": "code",
   "execution_count": 4,
   "id": "634d45ec",
   "metadata": {},
   "outputs": [],
   "source": [
    "def process_and_predict(file):\n",
    "    im = Image.open(file)\n",
    "    width, height = im.size\n",
    "    if width == height:\n",
    "        im = im.resize((200,200), Image.ANTIALIAS)\n",
    "    else:\n",
    "        if width > height:\n",
    "            left = width/2 - height/2\n",
    "            right = width/2 + height/2\n",
    "            top = 0\n",
    "            bottom = height\n",
    "            im = im.crop((left,top,right,bottom))\n",
    "            im = im.resize((200,200), Image.ANTIALIAS)\n",
    "        else:\n",
    "            left = 0\n",
    "            right = width\n",
    "            top = 0\n",
    "            bottom = width\n",
    "            im = im.crop((left,top,right,bottom))\n",
    "            im = im.resize((200,200), Image.ANTIALIAS)\n",
    "            \n",
    "    ar = np.asarray(im)\n",
    "    ar = ar.astype('float32')\n",
    "    ar /= 255.0\n",
    "    ar = ar.reshape(-1, 200, 200, 3)\n",
    "    \n",
    "    age = agemodel.predict(ar)\n",
    "    gender = np.round(genmodel.predict(ar))\n",
    "    if gender == 0:\n",
    "        gender = 'Masculino'\n",
    "    elif gender == 1:\n",
    "        gender = 'Feminino'\n",
    "        \n",
    "    #print('Idade:', int(age), '\\n Genero:', gender)\n",
    "    results = []\n",
    "    results.append(int(age))\n",
    "    results.append(gender)\n",
    "    #return im.resize((300,300), Image.ANTIALIAS)\n",
    "    return results"
   ]
  },
  {
   "cell_type": "code",
   "execution_count": 5,
   "id": "a2785860",
   "metadata": {},
   "outputs": [],
   "source": [
    "UPLOAD_FOLDER = 'dev/'\n",
    "ALLOWED_EXTENSIONS = set(['tif', 'png', 'jpg', 'jpeg', 'gif','undefined'])\n",
    "\n",
    "def allowed_file(filename):\n",
    "    return '.' in filename and filename.rsplit('.', 1)[1] in ALLOWED_EXTENSIONS\n",
    "\n",
    "#(criar o servidor) flask\n",
    "app = Flask(__name__)\n",
    "#http://localhost:9000/apidocs\n",
    "swagger = Swagger(app)\n",
    "app.config['UPLOAD_FOLDER'] = UPLOAD_FOLDER"
   ]
  },
  {
   "cell_type": "code",
   "execution_count": 6,
   "id": "b16f994d",
   "metadata": {},
   "outputs": [],
   "source": [
    "@app.route('/api/predict', methods=['POST'])\n",
    "def m_upload():\n",
    "    \"\"\"Example endpoint returning a prediction for cats and dogs\n",
    "    ---\n",
    "    consumes:\n",
    "      - multipart/form-data  \n",
    "    parameters:\n",
    "      - in: formData\n",
    "        name: image\n",
    "        required: true\n",
    "        description: Upload your file.\n",
    "        type: file\n",
    "    definitions:\n",
    "      Image:\n",
    "        type: file\n",
    "    responses:\n",
    "      200:\n",
    "        description: A prediction for the image (Dog, Cat)\n",
    "        schema:\n",
    "          $ref: '#/definitions/Image'\n",
    "        examples:\n",
    "          image: \"teste.jpg\"\n",
    "    \"\"\"\n",
    "    # check if the post request has the file part\n",
    "    if 'image' not in request.files:\n",
    "        return jsonify({'error':'No posted image. Should be attribute named image.'})\n",
    "    file = request.files['image']\n",
    "\n",
    "    # if user does not select file, browser also\n",
    "    # submit a empty part without filename\n",
    "    if file.filename == '':\n",
    "        return jsonify({'error':'Empty filename submitted.'})\n",
    "    if file and allowed_file(file.filename):\n",
    "        filename = file.filename\n",
    "        print(\"ficheiro:\"+filename)\n",
    "        print(os.path.join(app.config['UPLOAD_FOLDER'], filename))\n",
    "        file.save(os.path.join(app.config['UPLOAD_FOLDER'], filename))\n",
    "        \n",
    "        print(filename)\n",
    "        result = process_and_predict(os.path.join(app.config['UPLOAD_FOLDER'], filename))\n",
    "        print(result)\n",
    "        response = {'age':result[0], 'gender': result[1]}\n",
    "        return jsonify(response)\n",
    "    else:\n",
    "        return jsonify({'error':'File has invalid extension'})"
   ]
  },
  {
   "cell_type": "code",
   "execution_count": null,
   "id": "f6c2362d",
   "metadata": {},
   "outputs": [
    {
     "name": "stdout",
     "output_type": "stream",
     "text": [
      " * Serving Flask app \"__main__\" (lazy loading)\n",
      " * Environment: production\n",
      "\u001b[31m   WARNING: This is a development server. Do not use it in a production deployment.\u001b[0m\n",
      "\u001b[2m   Use a production WSGI server instead.\u001b[0m\n",
      " * Debug mode: off\n"
     ]
    },
    {
     "name": "stderr",
     "output_type": "stream",
     "text": [
      " * Running on http://0.0.0.0:9000/ (Press CTRL+C to quit)\n"
     ]
    },
    {
     "name": "stdout",
     "output_type": "stream",
     "text": [
      "ficheiro:thisperson4.jpg\n",
      "dev/thisperson4.jpg\n",
      "thisperson4.jpg\n"
     ]
    },
    {
     "name": "stderr",
     "output_type": "stream",
     "text": [
      "127.0.0.1 - - [17/Dec/2021 20:55:17] \"\u001b[37mPOST /api/predict HTTP/1.1\u001b[0m\" 200 -\n"
     ]
    },
    {
     "name": "stdout",
     "output_type": "stream",
     "text": [
      "[24, 'Feminino']\n"
     ]
    },
    {
     "name": "stderr",
     "output_type": "stream",
     "text": [
      "127.0.0.1 - - [17/Dec/2021 20:55:40] \"\u001b[37mPOST /api/predict HTTP/1.1\u001b[0m\" 200 -\n"
     ]
    },
    {
     "name": "stdout",
     "output_type": "stream",
     "text": [
      "ficheiro:1C3726D4-D994-44FB-9649-0B43D90C23BD_1_105_c.jpeg\n",
      "dev/1C3726D4-D994-44FB-9649-0B43D90C23BD_1_105_c.jpeg\n",
      "1C3726D4-D994-44FB-9649-0B43D90C23BD_1_105_c.jpeg\n",
      "[40, 'Masculino']\n"
     ]
    }
   ],
   "source": [
    "if __name__ == '__main__':\n",
    "    app.run(host= '0.0.0.0',port=9000)"
   ]
  },
  {
   "cell_type": "code",
   "execution_count": null,
   "id": "d2745adb",
   "metadata": {},
   "outputs": [],
   "source": []
  }
 ],
 "metadata": {
  "kernelspec": {
   "display_name": "Python 3 (ipykernel)",
   "language": "python",
   "name": "python3"
  },
  "language_info": {
   "codemirror_mode": {
    "name": "ipython",
    "version": 3
   },
   "file_extension": ".py",
   "mimetype": "text/x-python",
   "name": "python",
   "nbconvert_exporter": "python",
   "pygments_lexer": "ipython3",
   "version": "3.8.12"
  }
 },
 "nbformat": 4,
 "nbformat_minor": 5
}
